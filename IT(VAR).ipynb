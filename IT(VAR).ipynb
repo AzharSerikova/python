{
 "cells": [
  {
   "cell_type": "code",
   "execution_count": 1,
   "metadata": {},
   "outputs": [
    {
     "name": "stdout",
     "output_type": "stream",
     "text": [
      "A -> 0.0015739769150052466%\n",
      "t -> 0.05508919202518363%\n",
      "  -> 0.15634837355718784%\n",
      "d -> 0.03987408184679958%\n",
      "i -> 0.06348373557187828%\n",
      "s -> 0.0574501573976915%\n",
      "a -> 0.053515215110178385%\n",
      "n -> 0.06663168940188877%\n",
      "h -> 0.024134312696747113%\n",
      "b -> 0.012591815320041973%\n",
      "m -> 0.020199370409234%\n",
      "o -> 0.06348373557187828%\n",
      "g -> 0.015739769150052464%\n",
      "y -> 0.019150052465897165%\n",
      ". -> 0.020461699895068207%\n",
      "p -> 0.019150052465897165%\n",
      "e -> 0.10624344176285415%\n",
      "w -> 0.013903462749213011%\n",
      "l -> 0.028856243441762856%\n",
      "c -> 0.021773347324239245%\n",
      "r -> 0.05535152151101784%\n",
      "E -> 0.0013116474291710388%\n",
      "u -> 0.025183630640083946%\n",
      "f -> 0.01626442812172088%\n",
      "J -> 0.0007869884575026233%\n",
      "z -> 0.00026232948583420777%\n",
      "I -> 0.002098635886673662%\n",
      "q -> 0.0015739769150052466%\n",
      "N -> 0.0005246589716684155%\n",
      "k -> 0.003934942287513116%\n",
      "\n",
      " -> 0.00472193074501574%\n",
      "v -> 0.00708289611752361%\n",
      "M -> 0.0007869884575026233%\n",
      "H -> 0.0018363064008394543%\n",
      "x -> 0.003934942287513116%\n",
      "D -> 0.0007869884575026233%\n",
      "S -> 0.0015739769150052466%\n",
      "j -> 0.00236096537250787%\n",
      "T -> 0.002098635886673662%\n",
      "G -> 0.00026232948583420777%\n",
      "O -> 0.0013116474291710388%\n",
      "P -> 0.001049317943336831%\n",
      "U -> 0.00026232948583420777%\n",
      "W -> 0.00026232948583420777%\n",
      "F -> 0.0005246589716684155%\n",
      "R -> 0.0007869884575026233%\n",
      "L -> 0.001049317943336831%\n",
      "B -> 0.0005246589716684155%\n",
      "C -> 0.001049317943336831%\n",
      "п -> 0.00026232948583420777%\n",
      "» -> 0.00026232948583420777%\n",
      "ї -> 0.00026232948583420777%\n"
     ]
    }
   ],
   "source": [
    "#Firstly open the txt file\n",
    "file = open('text.txt', 'r')\n",
    "#and read it\n",
    "text: str = file.read()\n",
    "file.close()\n",
    "#then save it into dictionary called letters\n",
    "letters = {}\n",
    "#Gets each line till end of file is reached   \n",
    "for letter in text:\n",
    "#Counts each symbol if its not appeared \n",
    "  try: letters[letter]+=1\n",
    "#Except which appeared\n",
    "  except: letters[letter]=1\n",
    "        \n",
    "for key, value in letters.items(): \n",
    "  print(\"{} -> {}%\".format(key, value/len(text)))"
   ]
  },
  {
   "cell_type": "code",
   "execution_count": null,
   "metadata": {},
   "outputs": [],
   "source": []
  }
 ],
 "metadata": {
  "kernelspec": {
   "display_name": "Python 3",
   "language": "python",
   "name": "python3"
  },
  "language_info": {
   "codemirror_mode": {
    "name": "ipython",
    "version": 3
   },
   "file_extension": ".py",
   "mimetype": "text/x-python",
   "name": "python",
   "nbconvert_exporter": "python",
   "pygments_lexer": "ipython3",
   "version": "3.8.3"
  }
 },
 "nbformat": 4,
 "nbformat_minor": 4
}
