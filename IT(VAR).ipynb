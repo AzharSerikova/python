{
 "cells": [
  {
   "cell_type": "code",
   "execution_count": 22,
   "metadata": {},
   "outputs": [
    {
     "name": "stdout",
     "output_type": "stream",
     "text": [
      "A -> 0.15739769150052466%\n",
      "t -> 5.508919202518363%\n",
      "  -> 15.634837355718783%\n",
      "d -> 3.987408184679958%\n",
      "i -> 6.348373557187828%\n",
      "s -> 5.74501573976915%\n",
      "a -> 5.351521511017839%\n",
      "n -> 6.663168940188877%\n",
      "h -> 2.413431269674711%\n",
      "b -> 1.2591815320041972%\n",
      "m -> 2.0199370409234%\n",
      "o -> 6.348373557187828%\n",
      "g -> 1.5739769150052465%\n",
      "y -> 1.9150052465897165%\n",
      ". -> 2.046169989506821%\n",
      "p -> 1.9150052465897165%\n",
      "e -> 10.624344176285415%\n",
      "w -> 1.3903462749213011%\n",
      "l -> 2.8856243441762857%\n",
      "c -> 2.1773347324239243%\n",
      "r -> 5.535152151101784%\n",
      "E -> 0.13116474291710387%\n",
      "u -> 2.5183630640083945%\n",
      "f -> 1.6264428121720882%\n",
      "J -> 0.07869884575026233%\n",
      "z -> 0.026232948583420776%\n",
      "I -> 0.2098635886673662%\n",
      "q -> 0.15739769150052466%\n",
      "N -> 0.05246589716684155%\n",
      "k -> 0.3934942287513116%\n",
      "\n",
      " -> 0.472193074501574%\n",
      "v -> 0.7082896117523609%\n",
      "M -> 0.07869884575026233%\n",
      "H -> 0.18363064008394542%\n",
      "x -> 0.3934942287513116%\n",
      "D -> 0.07869884575026233%\n",
      "S -> 0.15739769150052466%\n",
      "j -> 0.236096537250787%\n",
      "T -> 0.2098635886673662%\n",
      "G -> 0.026232948583420776%\n",
      "O -> 0.13116474291710387%\n",
      "P -> 0.1049317943336831%\n",
      "U -> 0.026232948583420776%\n",
      "W -> 0.026232948583420776%\n",
      "F -> 0.05246589716684155%\n",
      "R -> 0.07869884575026233%\n",
      "L -> 0.1049317943336831%\n",
      "B -> 0.05246589716684155%\n",
      "C -> 0.1049317943336831%\n",
      "п -> 0.026232948583420776%\n",
      "» -> 0.026232948583420776%\n",
      "ї -> 0.026232948583420776%\n"
     ]
    }
   ],
   "source": [
    "#Firstly open the txt file\n",
    "file = open('text.txt', 'r')\n",
    "#and read it\n",
    "text: str = file.read()\n",
    "file.close()\n",
    "#then save it into dictionary called letters\n",
    "letters = {}\n",
    "#Gets each line till end of file is reached   \n",
    "for letter in text:\n",
    "#Counts each symbol if its not appeared \n",
    "  try: letters[letter]+=1\n",
    "#Except which appeared\n",
    "  except: letters[letter]=1\n",
    "        \n",
    "for key, value in letters.items(): \n",
    "  print(\"{} -> {}%\".format(key, value/len(text)*100))"
   ]
  },
  {
   "cell_type": "code",
   "execution_count": null,
   "metadata": {},
   "outputs": [],
   "source": []
  }
 ],
 "metadata": {
  "kernelspec": {
   "display_name": "Python 3",
   "language": "python",
   "name": "python3"
  },
  "language_info": {
   "codemirror_mode": {
    "name": "ipython",
    "version": 3
   },
   "file_extension": ".py",
   "mimetype": "text/x-python",
   "name": "python",
   "nbconvert_exporter": "python",
   "pygments_lexer": "ipython3",
   "version": "3.8.3"
  }
 },
 "nbformat": 4,
 "nbformat_minor": 4
}
