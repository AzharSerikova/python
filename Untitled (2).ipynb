{
 "cells": [
  {
   "cell_type": "code",
   "execution_count": 16,
   "metadata": {},
   "outputs": [],
   "source": [
    "with open('it.txt') as f:\n",
    "    txt = f.read()"
   ]
  },
  {
   "cell_type": "code",
   "execution_count": 17,
   "metadata": {},
   "outputs": [
    {
     "data": {
      "text/plain": [
       "52"
      ]
     },
     "execution_count": 17,
     "metadata": {},
     "output_type": "execute_result"
    }
   ],
   "source": [
    "txt = [x for x in txt]\n",
    "txt = set(txt)\n",
    "len(txt)"
   ]
  },
  {
   "cell_type": "code",
   "execution_count": 18,
   "metadata": {},
   "outputs": [
    {
     "data": {
      "text/plain": [
       "{'\\n',\n",
       " ' ',\n",
       " '.',\n",
       " 'A',\n",
       " 'B',\n",
       " 'C',\n",
       " 'D',\n",
       " 'E',\n",
       " 'F',\n",
       " 'G',\n",
       " 'H',\n",
       " 'I',\n",
       " 'J',\n",
       " 'L',\n",
       " 'M',\n",
       " 'N',\n",
       " 'O',\n",
       " 'P',\n",
       " 'R',\n",
       " 'S',\n",
       " 'T',\n",
       " 'U',\n",
       " 'W',\n",
       " 'a',\n",
       " 'b',\n",
       " 'c',\n",
       " 'd',\n",
       " 'e',\n",
       " 'f',\n",
       " 'g',\n",
       " 'h',\n",
       " 'i',\n",
       " 'j',\n",
       " 'k',\n",
       " 'l',\n",
       " 'm',\n",
       " 'n',\n",
       " 'o',\n",
       " 'p',\n",
       " 'q',\n",
       " 'r',\n",
       " 's',\n",
       " 't',\n",
       " 'u',\n",
       " 'v',\n",
       " 'w',\n",
       " 'x',\n",
       " 'y',\n",
       " 'z',\n",
       " '»',\n",
       " 'п',\n",
       " 'ї'}"
      ]
     },
     "execution_count": 18,
     "metadata": {},
     "output_type": "execute_result"
    }
   ],
   "source": [
    "txt"
   ]
  },
  {
   "cell_type": "code",
   "execution_count": 19,
   "metadata": {},
   "outputs": [],
   "source": [
    "with open('it.txt') as f:\n",
    "    txt = f.read()"
   ]
  },
  {
   "cell_type": "code",
   "execution_count": 29,
   "metadata": {},
   "outputs": [
    {
     "data": {
      "text/plain": [
       "3812"
      ]
     },
     "execution_count": 29,
     "metadata": {},
     "output_type": "execute_result"
    }
   ],
   "source": [
    "len(txt)"
   ]
  },
  {
   "cell_type": "code",
   "execution_count": 26,
   "metadata": {},
   "outputs": [],
   "source": [
    "d = {}\n",
    "for x in txt:\n",
    "     d[x] = d.get(x, 0) + 1"
   ]
  },
  {
   "cell_type": "code",
   "execution_count": 27,
   "metadata": {},
   "outputs": [
    {
     "data": {
      "text/plain": [
       "{'A': 6,\n",
       " 't': 210,\n",
       " ' ': 596,\n",
       " 'd': 152,\n",
       " 'i': 242,\n",
       " 's': 219,\n",
       " 'a': 204,\n",
       " 'n': 254,\n",
       " 'h': 92,\n",
       " 'b': 48,\n",
       " 'm': 77,\n",
       " 'o': 242,\n",
       " 'g': 60,\n",
       " 'y': 73,\n",
       " '.': 78,\n",
       " 'p': 73,\n",
       " 'e': 405,\n",
       " 'w': 53,\n",
       " 'l': 110,\n",
       " 'c': 83,\n",
       " 'r': 211,\n",
       " 'E': 5,\n",
       " 'u': 96,\n",
       " 'f': 62,\n",
       " 'J': 3,\n",
       " 'z': 1,\n",
       " 'I': 8,\n",
       " 'q': 6,\n",
       " 'N': 2,\n",
       " 'k': 15,\n",
       " '\\n': 18,\n",
       " 'v': 27,\n",
       " 'M': 3,\n",
       " 'H': 7,\n",
       " 'x': 15,\n",
       " 'D': 3,\n",
       " 'S': 6,\n",
       " 'j': 9,\n",
       " 'T': 8,\n",
       " 'G': 1,\n",
       " 'O': 5,\n",
       " 'P': 4,\n",
       " 'U': 1,\n",
       " 'W': 1,\n",
       " 'F': 2,\n",
       " 'R': 3,\n",
       " 'L': 4,\n",
       " 'B': 2,\n",
       " 'C': 4,\n",
       " 'п': 1,\n",
       " '»': 1,\n",
       " 'ї': 1}"
      ]
     },
     "execution_count": 27,
     "metadata": {},
     "output_type": "execute_result"
    }
   ],
   "source": [
    "d"
   ]
  },
  {
   "cell_type": "code",
   "execution_count": 35,
   "metadata": {},
   "outputs": [
    {
     "name": "stdout",
     "output_type": "stream",
     "text": [
      "{'A': 0.0015739769150052466, 't': 0.05508919202518363, ' ': 0.15634837355718784, 'd': 0.03987408184679958, 'i': 0.06348373557187828, 's': 0.0574501573976915, 'a': 0.053515215110178385, 'n': 0.06663168940188877, 'h': 0.024134312696747113, 'b': 0.012591815320041973, 'm': 0.020199370409234, 'o': 0.06348373557187828, 'g': 0.015739769150052464, 'y': 0.019150052465897165, '.': 0.020461699895068207, 'p': 0.019150052465897165, 'e': 0.10624344176285415, 'w': 0.013903462749213011, 'l': 0.028856243441762856, 'c': 0.021773347324239245, 'r': 0.05535152151101784, 'E': 0.0013116474291710388, 'u': 0.025183630640083946, 'f': 0.01626442812172088, 'J': 0.0007869884575026233, 'z': 0.00026232948583420777, 'I': 0.002098635886673662, 'q': 0.0015739769150052466, 'N': 0.0005246589716684155, 'k': 0.003934942287513116, '\\n': 0.00472193074501574, 'v': 0.00708289611752361, 'M': 0.0007869884575026233, 'H': 0.0018363064008394543, 'x': 0.003934942287513116, 'D': 0.0007869884575026233, 'S': 0.0015739769150052466, 'j': 0.00236096537250787, 'T': 0.002098635886673662, 'G': 0.00026232948583420777, 'O': 0.0013116474291710388, 'P': 0.001049317943336831, 'U': 0.00026232948583420777, 'W': 0.00026232948583420777, 'F': 0.0005246589716684155, 'R': 0.0007869884575026233, 'L': 0.001049317943336831, 'B': 0.0005246589716684155, 'C': 0.001049317943336831, 'п': 0.00026232948583420777, '»': 0.00026232948583420777, 'ї': 0.00026232948583420777}\n"
     ]
    }
   ],
   "source": [
    "prob_dict = {}\n",
    "for k, v in d.items():\n",
    "    prob_dict[k] = v / sum(d.values())\n",
    "print(prob_dict)"
   ]
  },
  {
   "cell_type": "code",
   "execution_count": null,
   "metadata": {},
   "outputs": [],
   "source": []
  },
  {
   "cell_type": "code",
   "execution_count": null,
   "metadata": {},
   "outputs": [],
   "source": []
  }
 ],
 "metadata": {
  "kernelspec": {
   "display_name": "Python 3",
   "language": "python",
   "name": "python3"
  },
  "language_info": {
   "codemirror_mode": {
    "name": "ipython",
    "version": 3
   },
   "file_extension": ".py",
   "mimetype": "text/x-python",
   "name": "python",
   "nbconvert_exporter": "python",
   "pygments_lexer": "ipython3",
   "version": "3.8.5"
  }
 },
 "nbformat": 4,
 "nbformat_minor": 4
}
